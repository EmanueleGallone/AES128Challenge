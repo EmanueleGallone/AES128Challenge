{
 "cells": [
  {
   "cell_type": "markdown",
   "metadata": {},
   "source": [
    "# AES128 Counter Mode Decrypt Example\n",
    "\n",
    "#### we'll use 3 texts:\n",
    "##### PlainText1 (Cat.txt)\n",
    "##### CipherText1 (Encrypted_Cat.txt)\n",
    "##### CipherText2 (Challenge.txt)\n",
    "\n",
    "\n",
    "This is a same key scenario. The key used is unknown. All we know is that AES128 in counter mode is used (without Nonce) and the two ciphertexts are encrypted with the same key. The Objective is to retrieve the Plaintext of CipherText2 (Challenge.txt)\n",
    "\n",
    "#### IMPORTANT: if you run it on binder it won't work. This notebook is intended for \"Read Only\". If you want to try the code, download the files and run on local jupyter notebook"
   ]
  },
  {
   "cell_type": "code",
   "execution_count": 2,
   "metadata": {},
   "outputs": [],
   "source": [
    "#!/usr/bin/python3.7\n",
    "import collections\n",
    "\n",
    "def xor(s, t):\n",
    "    return bytes(((a) ^ (b)) for a, b in zip(s, t))\n",
    "\n",
    "#Plaintext 1\n",
    "with open('cat.txt', 'rb') as myfile:\n",
    "    cat = myfile.read()\n",
    "    \n",
    "# CipherText1 of PlainText1\n",
    "with open('encrypted_cat.txt', 'rb') as myfile:\n",
    "    encrypted_cat = myfile.read()[0:len(cat)]\n",
    "    \n",
    "#CipherText2 of Unknown PlainText\n",
    "with open('challenge.txt', 'rb') as myfile:\n",
    "    challenge = myfile.read()[0:len(cat)] # limiting the size for xor operation\n"
   ]
  },
  {
   "cell_type": "code",
   "execution_count": 3,
   "metadata": {},
   "outputs": [
    {
     "name": "stdout",
     "output_type": "stream",
     "text": [
      "\u0004@\u001b\u0006hv0Į#vx\u000b",
      "nƬI1xL>>G\r",
      "U5`i?n_\f",
      "\u0007W}G\r",
      "-hEJ?\u000b",
      "0\u0016\n",
      "t\u0001g%GwؠA1}zz~\u00001p\n",
      "NE,XiDJ.\r",
      "1X\u0007\u0006/bߌShnH\f",
      "N|Dׄ\u0018bIOQ'Ch%Rcb9\u001fR9\u000b",
      "|Q\u001d",
      "pVC\u0003lvӡr73\u0003\u0002CFXՙ.,)h(\u0018VJxTjl5%~\\'^\\Q}\u0012*7HiJS\u0001\u001b\bB5є/\"y\u0010\u0002NA5AFfpe:L\u0003b%ݔB5\u0014@Z\u001au=(?^*\u000b",
      "\u00150:w\u001e",
      "\u00111-bR~ͺRGD?\u0016\"Z*הWY1R(vW$/\u0013G7D\u0017,\u0000š?s\u0006OOm(\u001e",
      "!gh\u0001q\u0018/\u0015\f",
      "\u0011tي \u000eAM\u0017M&Y[\u00028\n",
      "oQ΂w+\u0005g47@Nn}\u0000\u0018gHڍD\"8(/\u001fR0\u0013EW\u0011\u0002Oæ\u001fʲ4<ȧaT\u000b",
      "L\u001aH:e2O)=-j1ɢ\u0013\u0014m\u0017\u001c",
      "68POCe\u0002\u000b",
      "<\u0019`[,z[1\u001f8\u0017jUq\n",
      "~T+\u000e2/\u001c",
      "]Eɣf*;nfj\u0007ʴW\u0013\u0013IЉ\"bq@@{\u000b",
      "\u0002\u0002G \r",
      "鹡\u0007\u0011Z\bFהi!G-d)m\u0002\u0005ѵ0n:1A#H\u001d",
      "m:W]x\u0014Vi\u001e",
      "M7Kۮ\u0004\u0014\u0006\u0001Fᵸ\u0013ͯPǤ?\u0017|\f",
      "JGj\u001a\u0002St\u0016v\u0007+QvͲ\u00031\t\u001aZg*<uҰf0K\u0003<kS\u0003Ϩj\u0013+ϳ_Z\u000b",
      "p^||B\\5ॺW%JL,9{\u000f\u0002vɞRN\u0001s)6g\u0010ʑq=)\u0010\f",
      "vRJscwf>\u001d",
      "jƬgW\u0005`\b\u0016\u0019ReRBQ\f",
      "9^z\u000e[4N\n"
     ]
    }
   ],
   "source": [
    "keystream = xor(cat,encrypted_cat)\n",
    "print(keystream[:1000].decode(errors='ignore')) #output the keystream"
   ]
  },
  {
   "cell_type": "code",
   "execution_count": 4,
   "metadata": {},
   "outputs": [
    {
     "name": "stdout",
     "output_type": "stream",
     "text": [
      "[(43, 122), (201, 119), (36, 109), (171, 108), (213, 107), (3, 107), (205, 107), (75, 107)]\n"
     ]
    }
   ],
   "source": [
    "print(collections.Counter(keystream).most_common(8))\n",
    "# the tuples (a, b) represents the ascii code (a) and the relative frequency (b) inside the bytearray \n",
    "# uniform distribution => pseudorandom stuff"
   ]
  },
  {
   "cell_type": "code",
   "execution_count": 5,
   "metadata": {},
   "outputs": [
    {
     "name": "stdout",
     "output_type": "stream",
     "text": [
      "Initial Value shift: 29\n",
      "1\u000eL-]9C\u0018Iw4*<UP`]AD]I\u0010O#o?֨~p\u0004\u0000Q\u0001\u001e",
      "r!v1Lpc?'GiRH\u0005yV綼l#l \u001b\u0015pe'\u0000\u0016*\u0017+nrîD_(q\u001a\\\u0010m\n",
      "Џ#)\u0011~[Im\n",
      "Y!=B\u000b",
      "nx]}r\u0017n\u0006\u0014-h\n",
      "\n",
      "Initial Value shift: 30\n",
      "A\u0013Y:\u000e\u0016~UR\u00027؄=7d\u0005)3@\n",
      " -''\u00146\u0014]\"4UiY(\u00029m\u001aOSj5\u0012O.-\u000e\u001a\u0005N\u001e",
      "E~DWXC?O20'ēr_Ѡg|\u0006Z\u001e",
      "\u001d",
      "^l&T\u001bk(\u0018)!a\u0010<\u000e\"ХZnƧoN\n",
      "\n",
      "Initial Value shift: 80\n",
      "THE RIME OF THE ANCIENT MARINER\n",
      "\n",
      "IN SEVEN PARTS\n",
      "\n",
      "By Samuel Taylor Coleridge\n",
      "\n",
      "\n",
      "\n",
      "PART THE FIRST.\n",
      "\n",
      "     It is an ancient Mariner,\n",
      "     And he stoppeth one of three.\n",
      "     \"By thy long grey bea\n",
      "\n"
     ]
    }
   ],
   "source": [
    "AES_BLOCK = 16 # 128 bit blocks\n",
    "max_length = len(keystream)//10 # limiting the max length for performance purpose\n",
    "\n",
    "# trying to exploit the counter iterating through AES blocks\n",
    "index = 0\n",
    "for block in [keystream [i : len(keystream)] for i in range(0, max_length, AES_BLOCK)]:\n",
    "    index += 1\n",
    "    temp = xor(block,challenge)\n",
    "    if 32 in collections.Counter(temp).most_common(8)[0]: # checking for ASCII Code 32 => it is the Space char\n",
    "        print(\"Initial Value shift: \" + str(index - 1))\n",
    "        print(temp[:200].decode(errors='ignore') + \"\\n\")"
   ]
  },
  {
   "cell_type": "code",
   "execution_count": 6,
   "metadata": {},
   "outputs": [
    {
     "name": "stdout",
     "output_type": "stream",
     "text": [
      "THE RIME OF THE ANCIENT MARINER\r\n",
      "\r\n",
      "IN SEVEN PARTS\r\n",
      "\r\n",
      "By Samuel Taylor Coleridge\r\n",
      "\r\n",
      "\r\n",
      "\r\n",
      "PART THE FIRST.\r\n",
      "\r\n",
      "     It is an ancient Mariner,\r\n",
      "     And he stoppeth one of three.\r\n",
      "     \"By thy long grey beard and glittering eye,\r\n",
      "     Now wherefore stopp'st thou me?\r\n",
      "\r\n",
      "     \"The Bridegroom's doors are opened wide,\r\n",
      "     And I am next of kin;\r\n",
      "     The guests are met, the feast is set:\r\n",
      "     May'st hear the merry din.\"\r\n",
      "\r\n",
      "     He holds him with his skinny hand,\r\n",
      "     \"There was a ship,\" quoth he.\r\n",
      "     \"Hold off! unhand me, grey-beard loon!\"\r\n",
      "     Eftsoons his hand dropt he.\r\n",
      "\r\n",
      "     He holds him with his glittering eye--\r\n",
      "     The Wedding-Guest stood still,\r\n",
      "     And listens like a three years child:\r\n",
      "     The Mariner hath his will.\r\n",
      "\r\n",
      "     The Wedding-Guest sat on a stone:\r\n",
      "     He cannot chuse but hear;\r\n",
      "     And thus spake on that ancient man,\r\n",
      "     The bright-eyed Mariner.\r\n",
      "\r\n",
      "     The ship was cheered, the harbour cleared,\r\n",
      "     Merrily did we drop\r\n",
      "     Below the kirk, below the hill,\r\n",
      " \n"
     ]
    }
   ],
   "source": [
    "t = xor(keystream[ AES_BLOCK*80 : len(keystream)],challenge)\n",
    "print(t[:1000].decode(errors='ignore')) #limiting the output and decoding in readable format"
   ]
  },
  {
   "cell_type": "markdown",
   "metadata": {},
   "source": [
    "# Mission Complete"
   ]
  }
 ],
 "metadata": {
  "kernelspec": {
   "display_name": "Python 3",
   "language": "python",
   "name": "python3"
  },
  "language_info": {
   "codemirror_mode": {
    "name": "ipython",
    "version": 3
   },
   "file_extension": ".py",
   "mimetype": "text/x-python",
   "name": "python",
   "nbconvert_exporter": "python",
   "pygments_lexer": "ipython3",
   "version": "3.7.2"
  }
 },
 "nbformat": 4,
 "nbformat_minor": 2
}
