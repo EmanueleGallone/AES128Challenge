{
 "cells": [
  {
   "cell_type": "markdown",
   "metadata": {},
   "source": [
    "# AES128 Counter Mode Decrypt Example\n",
    "\n",
    "#### we'll use 3 texts:\n",
    "##### PlainText1 (Cat.txt)\n",
    "##### CipherText1 (Encrypted_Cat.txt)\n",
    "##### CipherText2 (Challenge.txt)\n",
    "\n",
    "The key used is unknown. All we know is that AES128 in counter mode is used. The Two ciphertexts are encrypted with the same key. The Objective is to retrieve the Plaintext of CipherText2 (Challenge.txt)"
   ]
  },
  {
   "cell_type": "code",
   "execution_count": 1,
   "metadata": {},
   "outputs": [],
   "source": [
    "import collections\n",
    "\n",
    "def xor(s, t):\n",
    "    return bytes(((a) ^ (b)) for a, b in zip(s, t))\n",
    "\n",
    "#Plaintext 1\n",
    "with open('cat.txt', 'rb') as myfile:\n",
    "    cat = myfile.read()\n",
    "    \n",
    "# CipherText1 of PlainText1\n",
    "with open('encrypted_cat.txt', 'rb') as myfile:\n",
    "    encrypted_cat = myfile.read()[0:len(cat)]\n",
    "    \n",
    "#CipherText2 of Unknown PlainText\n",
    "with open('challenge.txt', 'rb') as myfile:\n",
    "    challenge = myfile.read()[0:len(cat)] # limiting the size for xor operation\n"
   ]
  },
  {
   "cell_type": "code",
   "execution_count": 2,
   "metadata": {},
   "outputs": [],
   "source": [
    "keystream = xor(cat,encrypted_cat)\n",
    "# print(keystream.decode(errors='ignore')) #output the keystream"
   ]
  },
  {
   "cell_type": "code",
   "execution_count": 3,
   "metadata": {},
   "outputs": [
    {
     "name": "stdout",
     "output_type": "stream",
     "text": [
      "[(43, 122), (201, 119), (36, 109), (171, 108), (213, 107), (3, 107), (205, 107), (75, 107)]\n"
     ]
    }
   ],
   "source": [
    "print(collections.Counter(keystream).most_common(8))\n",
    "# the tuples (a, b) represents the ascii code (a) and the relative frequency (b) inside the bytearray \n",
    "# uniform distribution => pseudorandom stuff"
   ]
  },
  {
   "cell_type": "code",
   "execution_count": 4,
   "metadata": {},
   "outputs": [
    {
     "name": "stdout",
     "output_type": "stream",
     "text": [
      "Initial Value shift: 29\n",
      "1\u000eL-]9C\u0018Iw4*<UP`]AD]I\u0010O#o?֨~p\u0004\u0000Q\u0001\u001e",
      "r!v1Lpc?'GiRH\u0005yV綼l#l \u001b\u0015pe'\u0000\u0016*\u0017+nrîD_(q\u001a\\\u0010m\n",
      "Џ#)\u0011~[Im\n",
      "Y!=B\u000b",
      "nx]}r\u0017n\u0006\u0014-h\n",
      "\n",
      "Initial Value shift: 30\n",
      "A\u0013Y:\u000e\u0016~UR\u00027؄=7d\u0005)3@\n",
      " -''\u00146\u0014]\"4UiY(\u00029m\u001aOSj5\u0012O.-\u000e\u001a\u0005N\u001e",
      "E~DWXC?O20'ēr_Ѡg|\u0006Z\u001e",
      "\u001d",
      "^l&T\u001bk(\u0018)!a\u0010<\u000e\"ХZnƧoN\n",
      "\n",
      "Initial Value shift: 80\n",
      "THE RIME OF THE ANCIENT MARINER\n",
      "\n",
      "IN SEVEN PARTS\n",
      "\n",
      "By Samuel Taylor Coleridge\n",
      "\n",
      "\n",
      "\n",
      "PART THE FIRST.\n",
      "\n",
      "     It is an ancient Mariner,\n",
      "     And he stoppeth one of three.\n",
      "     \"By thy long grey bea\n",
      "\n"
     ]
    }
   ],
   "source": [
    "AES_BLOCK = 16 # 128 bit blocks\n",
    "max_length = len(keystream)//10 # limiting the max length for performance purpose\n",
    "\n",
    "# trying to exploit the counter iterating through AES blocks\n",
    "index = 0\n",
    "for block in [keystream [i : len(keystream)] for i in range(0, max_length, AES_BLOCK)]:\n",
    "    index += 1\n",
    "    temp = xor(block,challenge)\n",
    "    if 32 in collections.Counter(temp).most_common(8)[0]: # checking for ASCII Code 32 => it is the Space char\n",
    "        print(\"Initial Value shift: \" + str(index - 1))\n",
    "        print(temp[:200].decode(errors='ignore') + \"\\n\")"
   ]
  },
  {
   "cell_type": "code",
   "execution_count": 6,
   "metadata": {},
   "outputs": [
    {
     "name": "stdout",
     "output_type": "stream",
     "text": [
      "THE RIME OF THE ANCIENT MARINER\r\n",
      "\r\n",
      "IN SEVEN PARTS\r\n",
      "\r\n",
      "By Samuel Taylor Coleridge\r\n",
      "\r\n",
      "\r\n",
      "\r\n",
      "PART THE FIRST.\r\n",
      "\r\n",
      "     It is an ancient Mariner,\r\n",
      "     And he stoppeth one of three.\r\n",
      "     \"By thy long grey beard and glittering eye,\r\n",
      "     Now wherefore stopp'st thou me?\r\n",
      "\r\n",
      "     \"The Bridegroom's doors are opened wide,\r\n",
      "     And I am next of kin;\r\n",
      "     The guests are met, the feast is set:\r\n",
      "     May'st hear the merry din.\"\r\n",
      "\r\n",
      "     He holds him with his skinny hand,\r\n",
      "     \"There was a ship,\" quoth he.\r\n",
      "     \"Hold off! unhand me, grey-beard loon!\"\r\n",
      "     Eftsoons his hand dropt he.\r\n",
      "\r\n",
      "     He holds him with his glittering eye--\r\n",
      "     The Wedding-Guest stood still,\r\n",
      "     And listens like a three years child:\r\n",
      "     The Mariner hath his will.\r\n",
      "\r\n",
      "     The Wedding-Guest sat on a stone:\r\n",
      "     He cannot chuse but hear;\r\n",
      "     And thus spake on that ancient man,\r\n",
      "     The bright-eyed Mariner.\r\n",
      "\r\n",
      "     The ship was cheered, the harbour cleared,\r\n",
      "     Merrily did we drop\r\n",
      "     Below the kirk, below the hill,\r\n",
      " \n"
     ]
    }
   ],
   "source": [
    "t = xor(keystream[ AES_BLOCK*80 : len(keystream)],challenge)\n",
    "print(t[:1000].decode(errors='ignore')) #limiting the output and decoding in readable format"
   ]
  },
  {
   "cell_type": "markdown",
   "metadata": {},
   "source": [
    "# Mission Complete"
   ]
  },
  {
   "cell_type": "code",
   "execution_count": null,
   "metadata": {},
   "outputs": [],
   "source": []
  }
 ],
 "metadata": {
  "kernelspec": {
   "display_name": "Python 3",
   "language": "python",
   "name": "python3"
  },
  "language_info": {
   "codemirror_mode": {
    "name": "ipython",
    "version": 3
   },
   "file_extension": ".py",
   "mimetype": "text/x-python",
   "name": "python",
   "nbconvert_exporter": "python",
   "pygments_lexer": "ipython3",
   "version": "3.7.2"
  }
 },
 "nbformat": 4,
 "nbformat_minor": 2
}
