{
 "cells": [
  {
   "cell_type": "markdown",
   "metadata": {},
   "source": [
    "# AES128 Counter Mode Decrypt Example\n",
    "\n",
    "#### we'll use 3 texts:\n",
    "##### PlainText1 (Cat.txt)\n",
    "##### CipherText1 (Encrypted_Cat.txt)\n",
    "##### CipherText2 (Challenge.txt)\n",
    "\n",
    "\n",
    "This is a same key scenario. The key used is unknown. All we know is that AES128 in counter mode is used (without Nonce) and the two ciphertexts are encrypted with the same key. The Objective is to retrieve the Plaintext of CipherText2 \n",
    "(Challenge.txt)\n",
    "\n",
    "#### IMPORTANT: if you run it on binder it may not work (probably there's something wrong with the readfile). This notebook is intended for \\\"Read Only\\\". If you want to try the code, download the files and run on local jupyter notebook"
   ]
  },
  {
   "cell_type": "code",
   "execution_count": 6,
   "metadata": {},
   "outputs": [],
   "source": [
    "#!/usr/bin/python3.7\n",
    "\n",
    "# Install numpy package in the current Jupyter kernel if not present\n",
    "import sys\n",
    "try:\n",
    "    import numpy\n",
    "except ImportError:\n",
    "    !conda install --yes --prefix {sys.prefix} numpy\n",
    "\n",
    "import numpy as np\n",
    "import collections\n",
    "\n",
    "cat = np.fromfile('cat.txt',np.dtype('B'))\n",
    "encrypted_cat = np.fromfile('encrypted_cat.txt',np.dtype('B'))\n",
    "challenge = np.fromfile('challenge.txt',np.dtype('B'))"
   ]
  },
  {
   "cell_type": "code",
   "execution_count": 7,
   "metadata": {},
   "outputs": [
    {
     "name": "stdout",
     "output_type": "stream",
     "text": [
      "b'\\xb4\\x95\\xd9\\x04\\xc6@\\xe1\\x1b\\x06hv\\xd90\\xc4\\xae#v\\x7f\\xa9x\\xed\\x86\\x0b\\x97\\xe2n\\x9b\\xd4\\xc6\\xac\\xbeI\\xe01x\\xbfL>>G\\x9c\\r\\xfbU5\\xfe\\xb0\\xc3`\\xdb\\xc9\\xcci?n\\x81_\\xd3\\x0c\\x07W}\\x8cG\\xad\\r-h\\x9cE\\xdcJ?\\xf3\\xcc\\x0b0\\x16\\nt\\xc1\\x01g\\x8c\\x8a%\\xf0\\xea\\x88\\xc5Gw\\xd5\\xd8\\xa0\\xe2A\\xd81\\xe0}\\xbd\\xc3zz\\xe2\\xe6~\\x001p\\n\\xf8\\xe0NE\\x88,\\xdcXi\\xc6D\\xfb\\xbbJ.\\xc8\\r1\\xf1X\\xb4\\xaa\\xf0\\xe6\\x07\\x06\\x88/\\xcbb\\xdf\\x8cS\\xa7hnH\\xb0\\x0c\\xad\\xbc\\x8f\\xca\\xe5N\\x9f\\xfb\\xa0|\\xe8\\xb9D\\xd7\\x84\\xc7\\xd1\\x18\\x93\\xe5b\\xc7\\xe4\\x8dI\\x9aO\\x9c\\x92Q\\'Ch\\xf3%\\xccRc\\xcc\\xfa\\xe6\\xbab9\\x1f\\xeaR9\\x0b\\xd3|Q\\xc0\\x1dpVC\\x8c\\xce\\x03l\\xf0\\x85v\\xd3\\xa1r7\\x92\\x853\\x03\\x86\\x02CF\\xcb\\xd4X\\xd5\\x99.,\\xe6\\xd4)\\xa2\\x9c\\xe2h(\\xa2\\x8a\\x18V\\xf6\\x9f\\x9aJx\\x95\\xcdT\\xe4jl5\\x95%~\\\\\\xe8\\xc3\\'^\\\\\\xd4Q}\\xc8\\xcb\\x12\\xcb*7H\\xb3i\\x94J\\xb7S\\x01\\x1b\\x08B\\xae\\xbe5\\xd1\\x94/\\xba\"\\xbfy\\x10\\x8f\\x02\\xc1N\\xdd\\xe4A5\\xb9A\\xa9\\xa8\\x98\\xbdF\\x9bf\\xfb\\x84pe\\xbd:L\\x88\\x7f\\xae\\xee\\xe9\\x9d\\xfa\\x03b%\\xb3\\xda\\xdd\\x94\\xc1\\x95B5\\x14\\x91@\\x93\\xbeZ\\xe6\\xe6\\x1au=\\xf2(?^\\xba*\\xab\\x0b\\x15\\x94\\xd50\\xd7:\\xcfw\\xcd\\x1e\\x111\\xa3\\xd8-bR~\\xe8\\xcd\\xbaR\\xf0\\x8fG\\x7fD?\\x16\"\\xb5\\xf9Z*\\xd7\\x94W\\xb1\\x98Y\\xfd1R(\\xcc\\xeb\\xcdvW\\xb1$/\\x13G7D\\xb7\\x17,\\x00\\xff\\xb4\\xc5\\xa1?\\xa4\\xfcs\\x06O\\x80Om\\xf6(\\x1e\\xd8!gh\\xdc\\xeb\\xf8\\x80\\xf2\\x01q\\xbf\\x92\\x83\\x18\\xd3/\\xb4\\x9b\\x15\\xb6\\x0c\\x11t\\x8a\\xfa\\xed\\xd9\\x8a\\x97 \\x0eA\\xb5M\\x17M&Y[\\x02\\x9e\\x838\\xa9\\noQ\\xce\\x82\\xe8w\\x81\\xc4\\xd5+\\x89\\x05g47@\\xdcNn\\x82\\xda}\\xc9\\x00\\x18\\xb8\\xf5g\\x90H\\xda\\x8d\\xe5D\"8(\\x88\\xd9/\\xff\\xfd\\xcf\\xfa\\x1f\\x99R\\xc70\\x13\\xcbEW\\xc0\\x11\\x02O\\x9e\\xc3\\xa6\\x1f\\xbb\\xc3\\xf8\\xca\\xb2\\x80\\xaa4<\\xc8\\xa7\\x89\\xada\\x8fT\\x89\\xfe\\xe6\\x9c\\x0bL\\xb7\\x8f\\x1aH:e\\xff2O)=\\xb2-\\x85\\xfdj1\\xc9\\xa2\\x13\\xb8\\xf1\\xee\\x14m\\x17\\x1c\\xec6\\xee\\xa0\\xbb\\xe5\\x878\\xb3POCe\\xf8\\x02\\xb2\\x0b\\xee<\\x19\\xb4\\x80`\\x98[\\xf3,z\\xa8\\xc0\\xb8\\x92[\\xd41\\xfe\\x1f8\\x17jU\\xcaq\\n\\xfc~T\\x93\\x80+\\x0e\\xb6\\xd22\\xb6/\\x9e\\x1c\\xf2\\xf9\\x89]\\xc9E\\xc9\\xa3\\xd5f\\xe5\\xa9\\xc3\\xe7*\\xf7;\\xa9\\xcd\\xef\\xfd\\xcen\\xc9fj\\x07\\xca\\xb4W\\x13\\xa6\\x13\\xcaI\\xd0\\x89\"\\xe9b\\xe5q\\xc0@\\xcd\\xd6@\\x8b{\\x0b\\xf9\\x02\\xc2\\xf8\\xfc\\x02G \\xf9\\r\\x95\\xae\\xff\\xe9\\xb9\\xa1\\x07\\x11\\xb4\\xe7\\xe0\\xdcZ\\xe2\\x08\\xf9F\\xf6\\xd7\\x94i\\xbe\\xdb!\\x8fG\\xbf-\\x89d)m\\x02\\x05\\xca\\xd1\\xb50n\\x86:1\\xa3A\\xa7#H\\x9b\\x1dm:\\xc1\\xebW\\xf2\\xae]x\\xae\\x14\\x80Vi\\x1e\\xf5\\xe6M7\\xe0\\x9dK\\xdb\\xae\\x04\\x14\\xc4\\x06\\x01F\\xce\\xe1\\xb5\\xb8\\x13\\xcd\\xafP\\xc7\\xa4?\\x17|\\x0cJ\\xd1Gj\\x1a\\xd0\\x02S\\x8f\\xe6t\\xa5\\x16\\xa7\\xe6\\xf3\\xba\\xfev\\x07+\\x96Qv\\xa3\\xe3\\xcd\\xb2\\x03\\x8c1\\xb6\\xa8\\xf3\\t\\xa0\\x1a\\xcaZg*<u\\xd2\\xb0\\xb2f0K\\x03\\xfb\\xa1<kS\\xea\\x03\\xcf\\xa8j\\x13+\\xcf\\xb3_\\xb6\\xb6Z\\x0b\\xf8p\\xb9\\xb4^\\xc3|\\xb6\\x94|\\x80\\xf8B\\\\\\x99\\xc15\\xe0\\xa5\\xbaW%\\x88\\x99JL,\\x9d9{\\x0f\\xf6\\x02\\xd9v\\xc9\\x9e\\xc9RN\\x01\\xa3s)6\\xa2\\xd5g\\x10\\xf8\\xf7\\xca\\x91q\\xb3=)\\x10\\xaa\\x0cv\\xe6R\\xc0Js\\xdf\\xe5c\\x82\\xbe\\xfbwf>\\x1dj\\xb2\\xd9\\xc6\\xac\\x90g\\xff\\xe0W\\x05\\xa9`\\xb1\\x08\\xba\\x16\\xba\\x19\\xc9\\xe6\\x7f\\xb2\\xdbR\\xaee\\x93\\xd2R\\x93BQ\\x0c\\xe7\\xd29^\\xc6\\xd3\\xf0z\\xf8\\xfe\\x9b\\xf0\\x0e\\xf7[\\xf24\\x82N'\n"
     ]
    }
   ],
   "source": [
    "keystream = np.bitwise_xor(cat,encrypted_cat[:len(cat)])\n",
    "print(keystream[:1000].tostring()) #output the keystream"
   ]
  },
  {
   "cell_type": "code",
   "execution_count": 8,
   "metadata": {},
   "outputs": [
    {
     "name": "stdout",
     "output_type": "stream",
     "text": [
      "[(43, 122), (201, 119), (36, 109), (171, 108), (213, 107), (3, 107), (205, 107), (75, 107)]\n"
     ]
    }
   ],
   "source": [
    "print(collections.Counter(keystream).most_common(8))\n",
    "# the tuples (a, b) represents the ascii code (a) and the relative frequency (b) inside the bytearray \n",
    "# uniform distribution => pseudorandom stuff"
   ]
  },
  {
   "cell_type": "code",
   "execution_count": 9,
   "metadata": {},
   "outputs": [
    {
     "name": "stdout",
     "output_type": "stream",
     "text": [
      "Initial Value shift: 29\n",
      "b\"1\\x0eL-\\xdb]9C\\x18I\\x99\\xb1w\\xea\\xff\\x884*\\xa7<U`\\x08\\xe2\\xf3P`\\xa4\\xe6]A\\xdaD]\\xb9I\\x93\\x10O#o?\\xaf\\x81\\x97\\xaf\\xfc\\xaf\\xee\\xf2\\x94\\xfd\\xd6\\xa8~\\xdcp\\x04t\\x80\\xfa\\x08\\x00Q\\x9a\\x01\\x95\\x1e\\x86\\xf4r!v1\\xd2Lpc\\xea?'\\xf6G\\xa1\\x84\\xa1iRH\\xbf\\x8c\\x86\\x05\\x9e\\xdey\\xd9Vx\\x08\\xab\\xe7\\xb6\\xbc\\x98l\\xdc#l \\x80\\x1b\\xb3\\x15\\x8f\\x95\\x83\\xc5\\xc2\\xe3\\xd7p\\xe2\\xbfe'\\x9e\\xc0\\x00\\x16*\\xe0\\x17+\\xffnr\\xc3\\xaeD_\\xce(\\xec\\x86q\\x1a\\\\\\xbe\\xae\\xa8\\x10\\xcc\\xd0m\\n\\xd2\\xca\\xd0\\x8f#\\xf9\\xb6)\\x11~\\xbb[\\xbdI\\xdbm\\n\\xbc\\xb7Y!=B\\x0bn\\xffx\\xba]}r\\x94\\x17n\\xe5\\x06\\xac\\x14\\xf5\\x8d-h\\xb8\\x8e\"\n",
      "Initial Value shift: 30\n",
      "b'\\xacA\\x13\\xa2\\xec\\xf8Y\\x8f\\xfa\\xc5\\xe9:\\xec\\x0e\\xf3\\x16~\\x99\\xb8\\x9cUR\\x02\\xaa7\\x9d\\xf3\\xd8\\x84\\xaa=7\\x89d\\xb3\\x05)\\xe2\\xba3@\\xd8\\xea\\xbb\\n -\\'\\xa4\\'\\xc3\\x14\\xab\\xd76\\x14]\\xb4\\x17\\x8c\\xa6\\x08\"\\xc0\\xa5\\xfb4Ui\\x97\\x8e\\xf8\\xd3\\xf7\\xe1\\xeeY(\\xd8\\x029\\xa0\\xfem\\x99\\x1aO\\xd2\\xd5S\\xde\\xd5\\xc5\\xe3j5\\x12O\\x8e.-\\xa1\\x0e\\xe7\\x1a\\xf8\\xcd\\x05N\\x1e\\xa1E\\xa8~\\xd2DW\\x8bXC?\\xceO\\xce\\xf020\\'\\xd8\\xc4\\x93\\xefr\\xcc_\\x86\\xd1\\xa0\\x97\\x89gt\\x08\\xbc\\xbc|\\xfd\\xf7\\x06\\xd9Z\\x1e\\xf5\\x8d\\x1d^l&\\xd1T\\xdc\\xc6\\xfe\\xe4\\x1b\\xdf\\xfe\\x90k\\xca(\\x18)!a\\x10\\xa9\\xe6\\x92<\\xf5\\x8a\\xb0\\x0e\\xb6\\xb4\"\\xd0\\xa5Zn\\xa1\\xc6\\xa7\\xf9oN\\x1f\\x08\\xb7'\n",
      "Initial Value shift: 80\n",
      "b'THE RIME OF THE ANCIENT MARINER\\r\\n\\r\\nIN SEVEN PARTS\\r\\n\\r\\nBy Samuel Taylor Coleridge\\r\\n\\r\\n\\r\\n\\r\\nPART THE FIRST.\\r\\n\\r\\n     It is an ancient Mariner,\\r\\n     And he stoppeth one of three.\\r\\n     \"By thy long grey bea'\n"
     ]
    }
   ],
   "source": [
    "AES_BLOCK = 16 # 128 bit blocks\n",
    "max_length = len(keystream)//10 # limiting the max length for performance purpose\n",
    "\n",
    "# trying to exploit the counter iterating through AES blocks\n",
    "index = 0\n",
    "for block in [keystream [i : len(keystream)] for i in range(0, max_length, AES_BLOCK)]:\n",
    "    index += 1\n",
    "    temp = np.bitwise_xor(block,challenge[0:len(block)])\n",
    "    if 32 in collections.Counter(temp).most_common(8)[0]: # checking for ASCII Code 32 => it is the Space char\n",
    "        print(\"Initial Value shift: \" + str(index - 1))\n",
    "        print(temp[:200].tostring())"
   ]
  },
  {
   "cell_type": "code",
   "execution_count": 10,
   "metadata": {},
   "outputs": [
    {
     "name": "stdout",
     "output_type": "stream",
     "text": [
      "b'THE RIME OF THE ANCIENT MARINER\\r\\n\\r\\nIN SEVEN PARTS\\r\\n\\r\\nBy Samuel Taylor Coleridge\\r\\n\\r\\n\\r\\n\\r\\nPART THE FIRST.\\r\\n\\r\\n     It is an ancient Mariner,\\r\\n     And he stoppeth one of three.\\r\\n     \"By thy long grey beard and glittering eye,\\r\\n     Now wherefore stopp\\'st thou me?\\r\\n\\r\\n     \"The Bridegroom\\'s doors are opened wide,\\r\\n     And I am next of kin;\\r\\n     The guests are met, the feast is set:\\r\\n     May\\'st hear the merry din.\"\\r\\n\\r\\n     He holds him with his skinny hand,\\r\\n     \"There was a ship,\" quoth he.\\r\\n     \"Hold off! unhand me, grey-beard loon!\"\\r\\n     Eftsoons his hand dropt he.\\r\\n\\r\\n     He holds him with his glittering eye--\\r\\n     The Wedding-Guest stood still,\\r\\n     And listens like a three years child:\\r\\n     The Mariner hath his will.\\r\\n\\r\\n     The Wedding-Guest sat on a stone:\\r\\n     He cannot chuse but hear;\\r\\n     And thus spake on that ancient man,\\r\\n     The bright-eyed Mariner.\\r\\n\\r\\n     The ship was cheered, the harbour cleared,\\r\\n     Merrily did we drop\\r\\n     Below the kirk, below the hill,\\r\\n '\n"
     ]
    }
   ],
   "source": [
    "shift = AES_BLOCK * 80\n",
    "t = np.bitwise_xor(keystream[ shift : len(keystream)],challenge[0:len(keystream) - shift])\n",
    "print(t[:1000].tostring()) #limiting the output and decoding in readable format"
   ]
  },
  {
   "cell_type": "markdown",
   "metadata": {},
   "source": [
    "# Mission Complete"
   ]
  }
 ],
 "metadata": {
  "kernelspec": {
   "display_name": "Python 3",
   "language": "python",
   "name": "python3"
  },
  "language_info": {
   "codemirror_mode": {
    "name": "ipython",
    "version": 3
   },
   "file_extension": ".py",
   "mimetype": "text/x-python",
   "name": "python",
   "nbconvert_exporter": "python",
   "pygments_lexer": "ipython3",
   "version": "3.7.2"
  }
 },
 "nbformat": 4,
 "nbformat_minor": 2
}
